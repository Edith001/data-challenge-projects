{
 "cells": [
  {
   "cell_type": "markdown",
   "metadata": {},
   "source": [
    "You are looking at data from an e-commerce website. The site is very simple and has just 4 pages:\n",
    "\n",
    "The ﬁrst page is the home page. When you come to the site for the ﬁrst time, you can only land on the home page as a ﬁrst page.\n",
    "From the home page, the user can perform a search and land on the search page.\n",
    "From the search page, if the user clicks on a product, she will get to the payment page, where she is asked to provide payment information in order to buy that product.\n",
    "If she does decide to buy, she ends up on the conﬁrmation page"
   ]
  },
  {
   "cell_type": "code",
   "execution_count": 104,
   "metadata": {
    "collapsed": true
   },
   "outputs": [],
   "source": [
    "import numpy as np\n",
    "import pandas as pd\n",
    "from sklearn.tree import DecisionTreeClassifier,export_graphviz\n",
    "from sklearn.feature_selection import chi2\n",
    "import matplotlib.pyplot as plt\n",
    "import seaborn as sns\n",
    "plt.style.use('ggplot')\n",
    "%matplotlib inline"
   ]
  },
  {
   "cell_type": "code",
   "execution_count": 105,
   "metadata": {},
   "outputs": [
    {
     "data": {
      "text/plain": [
       "(452, 1)"
      ]
     },
     "execution_count": 105,
     "metadata": {},
     "output_type": "execute_result"
    }
   ],
   "source": [
    "alluser  = pd.read_csv('home_page_table.csv',index_col= 'user_id')\n",
    "users_to_search = pd.read_csv('search_page_table.csv',index_col = 'user_id')\n",
    "users_to_pay = pd.read_csv('payment_page_table.csv',index_col = 'user_id')\n",
    "users_to_confirm = pd.read_csv('payment_confirmation_table.csv',index_col = 'user_id')\n",
    "users_to_confirm.shape"
   ]
  },
  {
   "cell_type": "markdown",
   "metadata": {},
   "source": [
    "replace the page in 'alluser' as the final page state of each user\n"
   ]
  },
  {
   "cell_type": "code",
   "execution_count": 106,
   "metadata": {},
   "outputs": [
    {
     "name": "stdout",
     "output_type": "stream",
     "text": [
      "home_page                    45200\n",
      "search_page                  39170\n",
      "payment_page                  5578\n",
      "payment_confirmation_page      452\n",
      "Name: final_page, dtype: int64\n",
      "final_page    0\n",
      "dtype: int64\n"
     ]
    }
   ],
   "source": [
    "alluser.loc[users_to_search.index,\"page\"] = users_to_search.page\n",
    "alluser.loc[users_to_pay.index,'page']= users_to_pay.page\n",
    "alluser.loc[users_to_confirm.index,'page'] = users_to_confirm.page\n",
    "alluser.rename(columns = {'page':'final_page'},inplace = True)\n",
    "print (alluser.final_page.value_counts())\n",
    "print (alluser.isnull().sum())"
   ]
  },
  {
   "cell_type": "code",
   "execution_count": 107,
   "metadata": {},
   "outputs": [
    {
     "name": "stderr",
     "output_type": "stream",
     "text": [
      "/Users/xiaoyisun/anaconda3/lib/python3.6/site-packages/seaborn/categorical.py:1460: FutureWarning: remove_na is deprecated and is a private function. Do not use.\n",
      "  stat_data = remove_na(group_data)\n"
     ]
    },
    {
     "data": {
      "image/png": "[encoded data removed]",
      "text/plain": [
       "<matplotlib.figure.Figure at 0x117d88d68>"
      ]
     },
     "metadata": {},
     "output_type": "display_data"
    }
   ],
   "source": [
    "sns.countplot(y='final_page',data=alluser)\n",
    "plt.show()"
   ]
  },
  {
   "cell_type": "code",
   "execution_count": 108,
   "metadata": {},
   "outputs": [
    {
     "name": "stderr",
     "output_type": "stream",
     "text": [
      "/Users/xiaoyisun/anaconda3/lib/python3.6/site-packages/ipykernel_launcher.py:2: FutureWarning: specifying 'categories' or 'ordered' in .astype() is deprecated; pass a CategoricalDtype instead\n",
      "  \n"
     ]
    },
    {
     "data": {
      "text/plain": [
       "home_page                45200\n",
       "search_page              39170\n",
       "payment_page              5578\n",
       "pay_confirmation_page        0\n",
       "Name: final_page, dtype: int64"
      ]
     },
     "execution_count": 108,
     "metadata": {},
     "output_type": "execute_result"
    }
   ],
   "source": [
    "pages = ['home_page','search_page','payment_page','payment_confirmation_page']\n",
    "alluser[\"final_page\"] = alluser.final_page.astype(\"category\",categories = pages,ordered=True)\n",
    "alluser.final_page.value_counts()"
   ]
  },
  {
   "cell_type": "code",
   "execution_count": 109,
   "metadata": {},
   "outputs": [
    {
     "data": {
      "text/plain": [
       "(90400, 3)"
      ]
     },
     "execution_count": 109,
     "metadata": {},
     "output_type": "execute_result"
    }
   ],
   "source": [
    "users_infos = pd.read_csv('user_table.csv',index_col='user_id')\n",
    "users_infos.isnull().sum()\n",
    "users_infos.shape"
   ]
  },
  {
   "cell_type": "code",
   "execution_count": 110,
   "metadata": {},
   "outputs": [
    {
     "data": {
      "text/plain": [
       "final_page    452\n",
       "date            0\n",
       "device          0\n",
       "sex             0\n",
       "dtype: int64"
      ]
     },
     "execution_count": 110,
     "metadata": {},
     "output_type": "execute_result"
    }
   ],
   "source": [
    "alluser = alluser.join(users_infos)\n",
    "alluser.isnull().sum()"
   ]
  },
  {
   "cell_type": "code",
   "execution_count": 83,
   "metadata": {},
   "outputs": [
    {
     "data": {
      "text/html": [
       "<div>\n",
       "<style scoped>\n",
       "    .dataframe tbody tr th:only-of-type {\n",
       "        vertical-align: middle;\n",
       "    }\n",
       "\n",
       "    .dataframe tbody tr th {\n",
       "        vertical-align: top;\n",
       "    }\n",
       "\n",
       "    .dataframe thead th {\n",
       "        text-align: right;\n",
       "    }\n",
       "</style>\n",
       "<table border=\"1\" class=\"dataframe\">\n",
       "  <thead>\n",
       "    <tr style=\"text-align: right;\">\n",
       "      <th></th>\n",
       "      <th>final_page</th>\n",
       "      <th>date</th>\n",
       "      <th>device</th>\n",
       "      <th>sex</th>\n",
       "    </tr>\n",
       "    <tr>\n",
       "      <th>user_id</th>\n",
       "      <th></th>\n",
       "      <th></th>\n",
       "      <th></th>\n",
       "      <th></th>\n",
       "    </tr>\n",
       "  </thead>\n",
       "  <tbody>\n",
       "    <tr>\n",
       "      <th>313593</th>\n",
       "      <td>home_page</td>\n",
       "      <td>2015-02-26</td>\n",
       "      <td>Desktop</td>\n",
       "      <td>Female</td>\n",
       "    </tr>\n",
       "    <tr>\n",
       "      <th>468315</th>\n",
       "      <td>home_page</td>\n",
       "      <td>2015-02-21</td>\n",
       "      <td>Desktop</td>\n",
       "      <td>Male</td>\n",
       "    </tr>\n",
       "    <tr>\n",
       "      <th>264005</th>\n",
       "      <td>home_page</td>\n",
       "      <td>2015-03-25</td>\n",
       "      <td>Desktop</td>\n",
       "      <td>Female</td>\n",
       "    </tr>\n",
       "    <tr>\n",
       "      <th>290784</th>\n",
       "      <td>home_page</td>\n",
       "      <td>2015-03-14</td>\n",
       "      <td>Desktop</td>\n",
       "      <td>Male</td>\n",
       "    </tr>\n",
       "    <tr>\n",
       "      <th>639104</th>\n",
       "      <td>search_page</td>\n",
       "      <td>2015-01-03</td>\n",
       "      <td>Desktop</td>\n",
       "      <td>Female</td>\n",
       "    </tr>\n",
       "    <tr>\n",
       "      <th>262889</th>\n",
       "      <td>home_page</td>\n",
       "      <td>2015-01-10</td>\n",
       "      <td>Mobile</td>\n",
       "      <td>Male</td>\n",
       "    </tr>\n",
       "    <tr>\n",
       "      <th>708793</th>\n",
       "      <td>home_page</td>\n",
       "      <td>2015-04-24</td>\n",
       "      <td>Mobile</td>\n",
       "      <td>Female</td>\n",
       "    </tr>\n",
       "    <tr>\n",
       "      <th>943143</th>\n",
       "      <td>search_page</td>\n",
       "      <td>2015-04-10</td>\n",
       "      <td>Desktop</td>\n",
       "      <td>Male</td>\n",
       "    </tr>\n",
       "    <tr>\n",
       "      <th>417894</th>\n",
       "      <td>home_page</td>\n",
       "      <td>2015-04-02</td>\n",
       "      <td>Mobile</td>\n",
       "      <td>Female</td>\n",
       "    </tr>\n",
       "    <tr>\n",
       "      <th>729374</th>\n",
       "      <td>search_page</td>\n",
       "      <td>2015-04-12</td>\n",
       "      <td>Desktop</td>\n",
       "      <td>Male</td>\n",
       "    </tr>\n",
       "  </tbody>\n",
       "</table>\n",
       "</div>"
      ],
      "text/plain": [
       "          final_page        date   device     sex\n",
       "user_id                                          \n",
       "313593     home_page  2015-02-26  Desktop  Female\n",
       "468315     home_page  2015-02-21  Desktop    Male\n",
       "264005     home_page  2015-03-25  Desktop  Female\n",
       "290784     home_page  2015-03-14  Desktop    Male\n",
       "639104   search_page  2015-01-03  Desktop  Female\n",
       "262889     home_page  2015-01-10   Mobile    Male\n",
       "708793     home_page  2015-04-24   Mobile  Female\n",
       "943143   search_page  2015-04-10  Desktop    Male\n",
       "417894     home_page  2015-04-02   Mobile  Female\n",
       "729374   search_page  2015-04-12  Desktop    Male"
      ]
     },
     "execution_count": 83,
     "metadata": {},
     "output_type": "execute_result"
    }
   ],
   "source": [
    "alluser.head(10)"
   ]
  },
  {
   "cell_type": "code",
   "execution_count": 59,
   "metadata": {},
   "outputs": [
    {
     "data": {
      "text/html": [
       "<div>\n",
       "<style scoped>\n",
       "    .dataframe tbody tr th:only-of-type {\n",
       "        vertical-align: middle;\n",
       "    }\n",
       "\n",
       "    .dataframe tbody tr th {\n",
       "        vertical-align: top;\n",
       "    }\n",
       "\n",
       "    .dataframe thead th {\n",
       "        text-align: right;\n",
       "    }\n",
       "</style>\n",
       "<table border=\"1\" class=\"dataframe\">\n",
       "  <thead>\n",
       "    <tr style=\"text-align: right;\">\n",
       "      <th></th>\n",
       "      <th>final_page</th>\n",
       "      <th>date</th>\n",
       "      <th>device</th>\n",
       "      <th>sex</th>\n",
       "    </tr>\n",
       "    <tr>\n",
       "      <th>user_id</th>\n",
       "      <th></th>\n",
       "      <th></th>\n",
       "      <th></th>\n",
       "      <th></th>\n",
       "    </tr>\n",
       "  </thead>\n",
       "  <tbody>\n",
       "    <tr>\n",
       "      <th>845758</th>\n",
       "      <td>search_page</td>\n",
       "      <td>2015-02-15</td>\n",
       "      <td>Desktop</td>\n",
       "      <td>Male</td>\n",
       "    </tr>\n",
       "    <tr>\n",
       "      <th>272782</th>\n",
       "      <td>payment_page</td>\n",
       "      <td>2015-01-23</td>\n",
       "      <td>Mobile</td>\n",
       "      <td>Female</td>\n",
       "    </tr>\n",
       "    <tr>\n",
       "      <th>815516</th>\n",
       "      <td>search_page</td>\n",
       "      <td>2015-04-05</td>\n",
       "      <td>Desktop</td>\n",
       "      <td>Female</td>\n",
       "    </tr>\n",
       "    <tr>\n",
       "      <th>582615</th>\n",
       "      <td>home_page</td>\n",
       "      <td>2015-01-16</td>\n",
       "      <td>Desktop</td>\n",
       "      <td>Female</td>\n",
       "    </tr>\n",
       "    <tr>\n",
       "      <th>166121</th>\n",
       "      <td>search_page</td>\n",
       "      <td>2015-01-05</td>\n",
       "      <td>Desktop</td>\n",
       "      <td>Male</td>\n",
       "    </tr>\n",
       "    <tr>\n",
       "      <th>456851</th>\n",
       "      <td>home_page</td>\n",
       "      <td>2015-03-16</td>\n",
       "      <td>Mobile</td>\n",
       "      <td>Male</td>\n",
       "    </tr>\n",
       "    <tr>\n",
       "      <th>128619</th>\n",
       "      <td>search_page</td>\n",
       "      <td>2015-04-16</td>\n",
       "      <td>Desktop</td>\n",
       "      <td>Male</td>\n",
       "    </tr>\n",
       "    <tr>\n",
       "      <th>167290</th>\n",
       "      <td>home_page</td>\n",
       "      <td>2015-03-29</td>\n",
       "      <td>Desktop</td>\n",
       "      <td>Female</td>\n",
       "    </tr>\n",
       "    <tr>\n",
       "      <th>437765</th>\n",
       "      <td>home_page</td>\n",
       "      <td>2015-04-27</td>\n",
       "      <td>Desktop</td>\n",
       "      <td>Male</td>\n",
       "    </tr>\n",
       "    <tr>\n",
       "      <th>337840</th>\n",
       "      <td>home_page</td>\n",
       "      <td>2015-02-07</td>\n",
       "      <td>Desktop</td>\n",
       "      <td>Male</td>\n",
       "    </tr>\n",
       "  </tbody>\n",
       "</table>\n",
       "</div>"
      ],
      "text/plain": [
       "           final_page        date   device     sex\n",
       "user_id                                           \n",
       "845758    search_page  2015-02-15  Desktop    Male\n",
       "272782   payment_page  2015-01-23   Mobile  Female\n",
       "815516    search_page  2015-04-05  Desktop  Female\n",
       "582615      home_page  2015-01-16  Desktop  Female\n",
       "166121    search_page  2015-01-05  Desktop    Male\n",
       "456851      home_page  2015-03-16   Mobile    Male\n",
       "128619    search_page  2015-04-16  Desktop    Male\n",
       "167290      home_page  2015-03-29  Desktop  Female\n",
       "437765      home_page  2015-04-27  Desktop    Male\n",
       "337840      home_page  2015-02-07  Desktop    Male"
      ]
     },
     "execution_count": 59,
     "metadata": {},
     "output_type": "execute_result"
    }
   ],
   "source": [
    "alluser.tail(10)"
   ]
  },
  {
   "cell_type": "code",
   "execution_count": 84,
   "metadata": {
    "collapsed": true
   },
   "outputs": [],
   "source": [
    "alluser.dropna(inplace=True)"
   ]
  },
  {
   "cell_type": "code",
   "execution_count": 88,
   "metadata": {},
   "outputs": [
    {
     "data": {
      "text/plain": [
       "(89948, 4)"
      ]
     },
     "execution_count": 88,
     "metadata": {},
     "output_type": "execute_result"
    }
   ],
   "source": [
    "alluser.shape"
   ]
  },
  {
   "cell_type": "code",
   "execution_count": 89,
   "metadata": {},
   "outputs": [
    {
     "data": {
      "text/html": [
       "<div>\n",
       "<style scoped>\n",
       "    .dataframe tbody tr th:only-of-type {\n",
       "        vertical-align: middle;\n",
       "    }\n",
       "\n",
       "    .dataframe tbody tr th {\n",
       "        vertical-align: top;\n",
       "    }\n",
       "\n",
       "    .dataframe thead th {\n",
       "        text-align: right;\n",
       "    }\n",
       "</style>\n",
       "<table border=\"1\" class=\"dataframe\">\n",
       "  <thead>\n",
       "    <tr style=\"text-align: right;\">\n",
       "      <th></th>\n",
       "      <th>date</th>\n",
       "      <th>device</th>\n",
       "      <th>sex</th>\n",
       "    </tr>\n",
       "    <tr>\n",
       "      <th>final_page</th>\n",
       "      <th></th>\n",
       "      <th></th>\n",
       "      <th></th>\n",
       "    </tr>\n",
       "  </thead>\n",
       "  <tbody>\n",
       "    <tr>\n",
       "      <th>home_page</th>\n",
       "      <td>2015-02-262015-02-212015-03-252015-03-142015-0...</td>\n",
       "      <td>DesktopDesktopDesktopDesktopMobileMobileMobile...</td>\n",
       "      <td>FemaleMaleFemaleMaleMaleFemaleFemaleFemaleMale...</td>\n",
       "    </tr>\n",
       "    <tr>\n",
       "      <th>search_page</th>\n",
       "      <td>2015-01-032015-04-102015-04-122015-02-042015-0...</td>\n",
       "      <td>DesktopDesktopDesktopMobileDesktopMobileMobile...</td>\n",
       "      <td>FemaleMaleMaleFemaleMaleMaleFemaleMaleMaleMale...</td>\n",
       "    </tr>\n",
       "    <tr>\n",
       "      <th>payment_page</th>\n",
       "      <td>2015-02-232015-01-172015-02-242015-02-112015-0...</td>\n",
       "      <td>DesktopDesktopMobileDesktopMobileDesktopDeskto...</td>\n",
       "      <td>FemaleMaleFemaleMaleMaleMaleMaleFemaleMaleMale...</td>\n",
       "    </tr>\n",
       "    <tr>\n",
       "      <th>pay_confirmation_page</th>\n",
       "      <td>None</td>\n",
       "      <td>None</td>\n",
       "      <td>None</td>\n",
       "    </tr>\n",
       "  </tbody>\n",
       "</table>\n",
       "</div>"
      ],
      "text/plain": [
       "                                                                    date  \\\n",
       "final_page                                                                 \n",
       "home_page              2015-02-262015-02-212015-03-252015-03-142015-0...   \n",
       "search_page            2015-01-032015-04-102015-04-122015-02-042015-0...   \n",
       "payment_page           2015-02-232015-01-172015-02-242015-02-112015-0...   \n",
       "pay_confirmation_page                                               None   \n",
       "\n",
       "                                                                  device  \\\n",
       "final_page                                                                 \n",
       "home_page              DesktopDesktopDesktopDesktopMobileMobileMobile...   \n",
       "search_page            DesktopDesktopDesktopMobileDesktopMobileMobile...   \n",
       "payment_page           DesktopDesktopMobileDesktopMobileDesktopDeskto...   \n",
       "pay_confirmation_page                                               None   \n",
       "\n",
       "                                                                     sex  \n",
       "final_page                                                                \n",
       "home_page              FemaleMaleFemaleMaleMaleFemaleFemaleFemaleMale...  \n",
       "search_page            FemaleMaleMaleFemaleMaleMaleFemaleMaleMaleMale...  \n",
       "payment_page           FemaleMaleFemaleMaleMaleMaleMaleFemaleMaleMale...  \n",
       "pay_confirmation_page                                               None  "
      ]
     },
     "execution_count": 89,
     "metadata": {},
     "output_type": "execute_result"
    }
   ],
   "source": [
    "alluser.groupby('final_page').sum()"
   ]
  },
  {
   "cell_type": "code",
   "execution_count": null,
   "metadata": {
    "collapsed": true
   },
   "outputs": [],
   "source": []
  }
 ],
 "metadata": {
  "kernelspec": {
   "display_name": "Python 3",
   "language": "python",
   "name": "python3"
  },
  "language_info": {
   "codemirror_mode": {
    "name": "ipython",
    "version": 3
   },
   "file_extension": ".py",
   "mimetype": "text/x-python",
   "name": "python",
   "nbconvert_exporter": "python",
   "pygments_lexer": "ipython3",
   "version": "3.6.3"
  }
 },
 "nbformat": 4,
 "nbformat_minor": 2
}
